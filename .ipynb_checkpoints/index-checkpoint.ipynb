{
 "cells": [
  {
   "cell_type": "code",
   "execution_count": 1,
   "id": "4f62529a",
   "metadata": {},
   "outputs": [],
   "source": [
    "import matplotlib\n",
    "import matplotlib.pyplot as plt\n",
    "import numpy as np"
   ]
  },
  {
   "cell_type": "code",
   "execution_count": 2,
   "id": "48d86eb6",
   "metadata": {},
   "outputs": [],
   "source": [
    "from PIL import Image"
   ]
  },
  {
   "cell_type": "code",
   "execution_count": 3,
   "id": "5cd6041d",
   "metadata": {},
   "outputs": [
    {
     "ename": "FileNotFoundError",
     "evalue": "[Errno 2] No such file or directory: 'https://uiuc-ischool-dataviz.github.io/is445_spring2022/week02/data/stitch_reworked.png'",
     "output_type": "error",
     "traceback": [
      "\u001b[0;31m---------------------------------------------------------------------------\u001b[0m",
      "\u001b[0;31mFileNotFoundError\u001b[0m                         Traceback (most recent call last)",
      "\u001b[0;32m/var/folders/dd/6ssn970n5ys9cj8v78lr47lh0000gn/T/ipykernel_63380/2905391805.py\u001b[0m in \u001b[0;36m<module>\u001b[0;34m\u001b[0m\n\u001b[0;32m----> 1\u001b[0;31m \u001b[0mimg\u001b[0m \u001b[0;34m=\u001b[0m \u001b[0mImage\u001b[0m\u001b[0;34m.\u001b[0m\u001b[0mopen\u001b[0m\u001b[0;34m(\u001b[0m\u001b[0;34m\"https://uiuc-ischool-dataviz.github.io/is445_spring2022/week02/data/stitch_reworked.png\"\u001b[0m\u001b[0;34m)\u001b[0m\u001b[0;34m\u001b[0m\u001b[0;34m\u001b[0m\u001b[0m\n\u001b[0m",
      "\u001b[0;32m~/opt/anaconda3/envs/DataViz/lib/python3.7/site-packages/PIL/Image.py\u001b[0m in \u001b[0;36mopen\u001b[0;34m(fp, mode, formats)\u001b[0m\n\u001b[1;32m   2973\u001b[0m \u001b[0;34m\u001b[0m\u001b[0m\n\u001b[1;32m   2974\u001b[0m     \u001b[0;32mif\u001b[0m \u001b[0mfilename\u001b[0m\u001b[0;34m:\u001b[0m\u001b[0;34m\u001b[0m\u001b[0;34m\u001b[0m\u001b[0m\n\u001b[0;32m-> 2975\u001b[0;31m         \u001b[0mfp\u001b[0m \u001b[0;34m=\u001b[0m \u001b[0mbuiltins\u001b[0m\u001b[0;34m.\u001b[0m\u001b[0mopen\u001b[0m\u001b[0;34m(\u001b[0m\u001b[0mfilename\u001b[0m\u001b[0;34m,\u001b[0m \u001b[0;34m\"rb\"\u001b[0m\u001b[0;34m)\u001b[0m\u001b[0;34m\u001b[0m\u001b[0;34m\u001b[0m\u001b[0m\n\u001b[0m\u001b[1;32m   2976\u001b[0m         \u001b[0mexclusive_fp\u001b[0m \u001b[0;34m=\u001b[0m \u001b[0;32mTrue\u001b[0m\u001b[0;34m\u001b[0m\u001b[0;34m\u001b[0m\u001b[0m\n\u001b[1;32m   2977\u001b[0m \u001b[0;34m\u001b[0m\u001b[0m\n",
      "\u001b[0;31mFileNotFoundError\u001b[0m: [Errno 2] No such file or directory: 'https://uiuc-ischool-dataviz.github.io/is445_spring2022/week02/data/stitch_reworked.png'"
     ]
    }
   ],
   "source": [
    "img = Image.open(\"stitch_reworked.png\")"
   ]
  },
  {
   "cell_type": "code",
   "execution_count": null,
   "id": "92d55be3",
   "metadata": {},
   "outputs": [],
   "source": [
    "type(img)"
   ]
  },
  {
   "cell_type": "code",
   "execution_count": null,
   "id": "39aab797",
   "metadata": {},
   "outputs": [],
   "source": [
    "imgdata = np.array(img)"
   ]
  },
  {
   "cell_type": "code",
   "execution_count": null,
   "id": "acf89f04",
   "metadata": {},
   "outputs": [],
   "source": [
    "imgdata.shape"
   ]
  },
  {
   "cell_type": "code",
   "execution_count": null,
   "id": "f6fa444d",
   "metadata": {},
   "outputs": [],
   "source": [
    "np.unique(imgdata)"
   ]
  },
  {
   "cell_type": "code",
   "execution_count": null,
   "id": "dcf72b24",
   "metadata": {},
   "outputs": [],
   "source": [
    "plt.imshow(imgdata)"
   ]
  },
  {
   "cell_type": "code",
   "execution_count": null,
   "id": "deb00fd3",
   "metadata": {},
   "outputs": [],
   "source": [
    "imgdata.reshape(-1, imgdata.shape[2])"
   ]
  },
  {
   "cell_type": "code",
   "execution_count": null,
   "id": "4b2e2039",
   "metadata": {},
   "outputs": [],
   "source": [
    "imgdata.shape[2]"
   ]
  },
  {
   "cell_type": "code",
   "execution_count": null,
   "id": "710dda30",
   "metadata": {},
   "outputs": [],
   "source": [
    "np.unique(imgdata.reshape(-1, imgdata.shape[2]), axis=0)"
   ]
  },
  {
   "cell_type": "code",
   "execution_count": null,
   "id": "0441e2de",
   "metadata": {},
   "outputs": [],
   "source": [
    "imgdata.reshape(-1, imgdata.shape[2]).shape"
   ]
  },
  {
   "cell_type": "markdown",
   "id": "ba4168d4",
   "metadata": {},
   "source": [
    "## RGB decomposition for the homework"
   ]
  },
  {
   "cell_type": "code",
   "execution_count": null,
   "id": "f71a2308",
   "metadata": {},
   "outputs": [],
   "source": [
    "fig, ax = plt.subplots(figsize=(10,5))\n",
    "ax.hist(imgdata[:,:,0])\n",
    "plt.show()"
   ]
  },
  {
   "cell_type": "code",
   "execution_count": null,
   "id": "802f223b",
   "metadata": {},
   "outputs": [],
   "source": [
    "imgdata[:,:,0].shape"
   ]
  },
  {
   "cell_type": "code",
   "execution_count": null,
   "id": "a0a94c87",
   "metadata": {},
   "outputs": [],
   "source": [
    "fig, ax = plt.subplots(figsize=(10,5))\n",
    "ax.hist(imgdata[:,:,0].flatten())\n",
    "plt.show()"
   ]
  },
  {
   "cell_type": "code",
   "execution_count": null,
   "id": "f318d51d",
   "metadata": {},
   "outputs": [],
   "source": [
    "imgdata[:,:,0].flatten()"
   ]
  },
  {
   "cell_type": "code",
   "execution_count": null,
   "id": "201e2241",
   "metadata": {},
   "outputs": [],
   "source": [
    "fig, ax = plt.subplots(figsize=(10,5))\n",
    "ax.hist(imgdata[:,:,0].flatten(), bins=256)\n",
    "plt.show()"
   ]
  },
  {
   "cell_type": "code",
   "execution_count": null,
   "id": "a3b4c75b",
   "metadata": {},
   "outputs": [],
   "source": [
    "ax.hist?"
   ]
  },
  {
   "cell_type": "code",
   "execution_count": null,
   "id": "1ab7793b",
   "metadata": {},
   "outputs": [],
   "source": [
    "fig, ax = plt.subplots(figsize=(10,5))\n",
    "ax.hist(imgdata[:,:,0].flatten(), bins=256)\n",
    "ax.set_xlabel('channel bins')\n",
    "ax.set_ylabel('num of pix in each bin')\n",
    "plt.show()"
   ]
  },
  {
   "cell_type": "code",
   "execution_count": null,
   "id": "e4aab6e7",
   "metadata": {},
   "outputs": [],
   "source": [
    "fig, ax = plt.subplots(figsize=(10,5))\n",
    "ax.hist(imgdata[:,:,0].flatten(), bins=256) # 0 = red\n",
    "ax.hist(imgdata[:,:,1].flatten(), bins=256) # 1 = green\n",
    "\n",
    "\n",
    "ax.set_xlabel('channel bins')\n",
    "ax.set_ylabel('num of pix in each bin')\n",
    "plt.show()"
   ]
  },
  {
   "cell_type": "code",
   "execution_count": null,
   "id": "b92487be",
   "metadata": {},
   "outputs": [],
   "source": [
    "fig, ax = plt.subplots(figsize=(10,5))\n",
    "ax.hist(imgdata[:,:,0].flatten(), bins=256, color='red') # 0 = red\n",
    "ax.hist(imgdata[:,:,1].flatten(), bins=256, color='green') # 1 = green\n",
    "\n",
    "\n",
    "ax.set_xlabel('channel bins')\n",
    "ax.set_ylabel('num of pix in each bin')\n",
    "plt.show()"
   ]
  },
  {
   "cell_type": "code",
   "execution_count": null,
   "id": "fde6cdbd",
   "metadata": {},
   "outputs": [],
   "source": [
    "fig, ax = plt.subplots(3,1, figsize=(15,5))"
   ]
  },
  {
   "cell_type": "code",
   "execution_count": null,
   "id": "09a6bbdc",
   "metadata": {},
   "outputs": [],
   "source": [
    "ax"
   ]
  },
  {
   "cell_type": "code",
   "execution_count": null,
   "id": "91e5edd5",
   "metadata": {},
   "outputs": [],
   "source": [
    "fig, ax = plt.subplots(3,1, figsize=(15,5))\n",
    "ax[0].hist(imgdata[:,:,0].flatten(), bins=256, color='red') # 0 = red\n",
    "ax[1].hist(imgdata[:,:,1].flatten(), bins=256, color='green') # 1 = green\n",
    "ax[2].hist(imgdata[:,:,2].flatten(), bins=256, color='blue') # 0 = red\n",
    "#ax[3].hist(imgdata[:,:,3].flatten(), bins=256, color='purple') # 1 = green\n",
    "plt.show()"
   ]
  },
  {
   "cell_type": "code",
   "execution_count": null,
   "id": "38423dd3",
   "metadata": {},
   "outputs": [],
   "source": [
    "fig, ax = plt.subplots(4,1, figsize=(15,5))\n",
    "ax[0].hist(imgdata[:,:,0].flatten(), bins=256, color='red') # 0 = red\n",
    "ax[1].hist(imgdata[:,:,1].flatten(), bins=256, color='green') # 1 = green\n",
    "ax[2].hist(imgdata[:,:,2].flatten(), bins=256, color='blue') # 2 = blue\n",
    "ax[3].hist(imgdata[:,:,3].flatten(), bins=256, color='black') # 3 = alpha\n",
    "plt.show()"
   ]
  },
  {
   "cell_type": "code",
   "execution_count": null,
   "id": "4f5dd309",
   "metadata": {},
   "outputs": [],
   "source": [
    "fig, ax = plt.subplots(4,1, figsize=(15,15))\n",
    "ax[0].hist(imgdata[:,:,0].flatten(), bins=256, color='red') # 0 = red\n",
    "ax[0].set_xlabel(\"red channel bins\")\n",
    "ax[1].hist(imgdata[:,:,1].flatten(), bins=256, color='green') # 1 = green\n",
    "ax[1].set_xlabel(\"green channel bins\")\n",
    "ax[2].hist(imgdata[:,:,2].flatten(), bins=256, color='blue') # 2 = blue\n",
    "ax[2].set_xlabel(\"blue channel bins\")\n",
    "ax[3].hist(imgdata[:,:,3].flatten(), bins=256, color='black') # 3 = alpha\n",
    "ax[3].set_xlabel(\"alpha channel bins\")\n",
    "plt.show()"
   ]
  },
  {
   "cell_type": "markdown",
   "id": "37daa469",
   "metadata": {},
   "source": [
    "## Fancy layouts"
   ]
  },
  {
   "cell_type": "code",
   "execution_count": null,
   "id": "31360074",
   "metadata": {},
   "outputs": [],
   "source": [
    "fig = plt.figure(figsize=(20,15))\n",
    "gs = fig.add_gridspec(3,2)\n",
    "ax1 = fig.add_subplot(gs[0,0])\n",
    "ax1.hist(imgdata[:,:,0].flatten(), bins=256, color='red')\n",
    "ax1.set_xlabel('R channel')\n",
    "\n",
    "ax2 = fig.add_subplot(gs[1, 0])\n",
    "ax2.hist(imgdata[:,:,1].flatten(), bins=256, color='green')\n",
    "ax2.set_xlabel(\"G channel\")\n",
    "\n",
    "ax3 = fig.add_subplot(gs[2, 0])\n",
    "ax3.hist(imgdata[:,:,1].flatten(), bins=256, color='blue')\n",
    "ax3.set_xlabel(\"B channel\")\n",
    "\n",
    "# fancy part \n",
    "ax4 = fig.add_subplot(gs[:,1])\n",
    "ax4.imshow(imgdata)\n",
    "plt.show()"
   ]
  },
  {
   "cell_type": "code",
   "execution_count": null,
   "id": "99385d8b",
   "metadata": {},
   "outputs": [],
   "source": []
  }
 ],
 "metadata": {
  "kernelspec": {
   "display_name": "Python 3 (ipykernel)",
   "language": "python",
   "name": "python3"
  },
  "language_info": {
   "codemirror_mode": {
    "name": "ipython",
    "version": 3
   },
   "file_extension": ".py",
   "mimetype": "text/x-python",
   "name": "python",
   "nbconvert_exporter": "python",
   "pygments_lexer": "ipython3",
   "version": "3.7.12"
  }
 },
 "nbformat": 4,
 "nbformat_minor": 5
}
