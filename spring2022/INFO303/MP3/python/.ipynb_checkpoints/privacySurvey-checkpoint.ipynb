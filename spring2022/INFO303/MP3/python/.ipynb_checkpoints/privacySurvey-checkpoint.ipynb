{
 "cells": [
  {
   "cell_type": "code",
   "execution_count": 1,
   "id": "a236bc85",
   "metadata": {},
   "outputs": [],
   "source": [
    "import numpy as np\n",
    "import matplotlib.pyplot as plt\n",
    "import seaborn as sns"
   ]
  },
  {
   "cell_type": "code",
   "execution_count": 2,
   "id": "23fc6e6d",
   "metadata": {},
   "outputs": [
    {
     "data": {
      "text/plain": [
       "[4, 8, 10, 6, 4]"
      ]
     },
     "execution_count": 2,
     "metadata": {},
     "output_type": "execute_result"
    }
   ],
   "source": [
    "male = [2, 2, 6, 4, 2]\n",
    "female = [2, 6, 4, 2, 2]\n",
    "labels = [1, 2, 3, 4, 5]\n",
    "aggre = [male[i] + female[i] for i in range(len(male))]\n",
    "aggre"
   ]
  },
  {
   "cell_type": "code",
   "execution_count": 3,
   "id": "f99060c2",
   "metadata": {},
   "outputs": [
    {
     "data": {
      "image/png": "[encoded data removed]",
      "text/plain": [
       "<Figure size 432x288 with 1 Axes>"
      ]
     },
     "metadata": {
      "needs_background": "light"
     },
     "output_type": "display_data"
    }
   ],
   "source": [
    "x = np.arange(len(labels))\n",
    "width = 0.7\n",
    "\n",
    "fig, ax = plt.subplots()\n",
    "rects1 = ax.bar(x, aggre, width, label='Candidate')\n",
    "# rects2 = ax.bar(x + width / 2, female, width, label='Women')\n",
    "\n",
    "ax.set_ylabel('Count')\n",
    "ax.set_title('Rate on Privacy Concerns - Both Gender Combined')\n",
    "ax.set_xticks(x)\n",
    "ax.set_xticklabels(labels)\n",
    "ax.legend()\n",
    "\n",
    "def autolabel(rects):\n",
    "    for rect in rects:\n",
    "        height = rect.get_height()\n",
    "        ax.annotate('{}'.format(height),\n",
    "        xy=(rect.get_x() + rect.get_width() / 2, height),\n",
    "        xytext=(0, 3), # 3 points vertical offset\n",
    "        textcoords=\"offset points\",\n",
    "        ha='center', va='bottom')\n",
    "        \n",
    "autolabel(rects1)\n",
    "# autolabel(rects2)\n",
    "\n",
    "plt.show()"
   ]
  },
  {
   "cell_type": "code",
   "execution_count": 4,
   "id": "5f2f0fda",
   "metadata": {},
   "outputs": [
    {
     "data": {
      "image/png": "[encoded data removed]",
      "text/plain": [
       "<Figure size 432x288 with 1 Axes>"
      ]
     },
     "metadata": {
      "needs_background": "light"
     },
     "output_type": "display_data"
    }
   ],
   "source": [
    "x = np.arange(len(labels))\n",
    "width = 0.35\n",
    "\n",
    "fig, ax = plt.subplots()\n",
    "rects1 = ax.bar(x - width / 2, male, width, label='Men')\n",
    "rects2 = ax.bar(x + width / 2, female, width, label='Women')\n",
    "\n",
    "ax.set_ylabel('Counts')\n",
    "ax.set_title('Rate on Privacy Concerns - Comparison')\n",
    "ax.set_xticks(x)\n",
    "ax.set_xticklabels(labels)\n",
    "ax.legend()\n",
    "\n",
    "def autolabel(rects):\n",
    "    for rect in rects:\n",
    "        height = rect.get_height()\n",
    "        ax.annotate('{}'.format(height),\n",
    "        xy=(rect.get_x() + rect.get_width() / 2, height),\n",
    "        xytext=(0, 3), # 3 points vertical offset\n",
    "        textcoords=\"offset points\",\n",
    "        ha='center', va='bottom')\n",
    "        \n",
    "autolabel(rects1)\n",
    "autolabel(rects2)\n",
    "\n",
    "plt.show()"
   ]
  },
  {
   "cell_type": "code",
   "execution_count": null,
   "id": "cbdde89c",
   "metadata": {},
   "outputs": [],
   "source": []
  }
 ],
 "metadata": {
  "kernelspec": {
   "display_name": "Python 3 (ipykernel)",
   "language": "python",
   "name": "python3"
  },
  "language_info": {
   "codemirror_mode": {
    "name": "ipython",
    "version": 3
   },
   "file_extension": ".py",
   "mimetype": "text/x-python",
   "name": "python",
   "nbconvert_exporter": "python",
   "pygments_lexer": "ipython3",
   "version": "3.7.12"
  }
 },
 "nbformat": 4,
 "nbformat_minor": 5
}
