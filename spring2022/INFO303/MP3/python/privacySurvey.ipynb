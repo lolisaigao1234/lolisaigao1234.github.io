{
 "cells": [
  {
   "cell_type": "code",
   "execution_count": 1,
   "id": "760aa2dd",
   "metadata": {},
   "outputs": [],
   "source": [
    "import numpy as np\n",
    "import matplotlib.pyplot as plt\n",
    "import seaborn as sns"
   ]
  },
  {
   "cell_type": "code",
   "execution_count": 19,
   "id": "806062f5",
   "metadata": {},
   "outputs": [],
   "source": [
    "male = [2, 2, 6, 4, 2]"
   ]
  },
  {
   "cell_type": "code",
   "execution_count": 20,
   "id": "62603550",
   "metadata": {},
   "outputs": [],
   "source": [
    "female = [2, 6, 4, 2, 2]"
   ]
  },
  {
   "cell_type": "code",
   "execution_count": 21,
   "id": "e1452c12",
   "metadata": {},
   "outputs": [],
   "source": [
    "labels = [1, 2, 3, 4, 5]"
   ]
  },
  {
   "cell_type": "code",
   "execution_count": 22,
   "id": "e4664536",
   "metadata": {},
   "outputs": [
    {
     "data": {
      "image/png": "[encoded data removed]",
      "text/plain": [
       "<Figure size 432x288 with 1 Axes>"
      ]
     },
     "metadata": {
      "needs_background": "light"
     },
     "output_type": "display_data"
    }
   ],
   "source": [
    "x = np.arange(len(labels))\n",
    "width = 0.35\n",
    "\n",
    "fig, ax = plt.subplots()\n",
    "rects1 = ax.bar(x - width / 2, male, width, label='Men')\n",
    "rects2 = ax.bar(x + width / 2, female, width, label='Women')\n",
    "\n",
    "ax.set_ylabel('Scores')\n",
    "ax.set_title('Scores by group and gender')\n",
    "ax.set_xticks(x)\n",
    "ax.set_xticklabels(labels)\n",
    "ax.legend()\n",
    "\n",
    "def autolabel(rects):\n",
    "    for rect in rects:\n",
    "        height = rect.get_height()\n",
    "        ax.annotate('{}'.format(height),\n",
    "        xy=(rect.get_x() + rect.get_width() / 2, height),\n",
    "        xytext=(0, 3), # 3 points vertical offset\n",
    "        textcoords=\"offset points\",\n",
    "        ha='center', va='bottom')\n",
    "        \n",
    "autolabel(rects1)\n",
    "autolabel(rects2)\n",
    "\n",
    "plt.show()"
   ]
  },
  {
   "cell_type": "code",
   "execution_count": null,
   "id": "46bb505a",
   "metadata": {},
   "outputs": [],
   "source": []
  }
 ],
 "metadata": {
  "kernelspec": {
   "display_name": "Python 3 (ipykernel)",
   "language": "python",
   "name": "python3"
  },
  "language_info": {
   "codemirror_mode": {
    "name": "ipython",
    "version": 3
   },
   "file_extension": ".py",
   "mimetype": "text/x-python",
   "name": "python",
   "nbconvert_exporter": "python",
   "pygments_lexer": "ipython3",
   "version": "3.7.12"
  }
 },
 "nbformat": 4,
 "nbformat_minor": 5
}
